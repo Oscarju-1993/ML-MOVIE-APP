{
 "cells": [
  {
   "cell_type": "code",
   "execution_count": 3,
   "metadata": {},
   "outputs": [],
   "source": [
    "import pandas as pd\n",
    "import json\n",
    "import os\n"
   ]
  },
  {
   "cell_type": "code",
   "execution_count": 4,
   "metadata": {},
   "outputs": [],
   "source": [
    "# Definir la ruta base de los archivos\n",
    "# Asegúrate de cambiar esta ruta si el dataset está en otra ubicación\n",
    "RUTA_BASE = \"C:/Users/oscar/Desktop/P1-HENRY/data_set\""
   ]
  },
  {
   "cell_type": "code",
   "execution_count": 5,
   "metadata": {},
   "outputs": [],
   "source": [
    "# Cargar el archivo credits.csv\n",
    "ruta_credits = os.path.join(RUTA_BASE, \"credits.csv\")\n",
    "credits_df = pd.read_csv(ruta_credits, low_memory=False)\n"
   ]
  },
  {
   "cell_type": "code",
   "execution_count": 6,
   "metadata": {},
   "outputs": [
    {
     "data": {
      "text/html": [
       "<div>\n",
       "<style scoped>\n",
       "    .dataframe tbody tr th:only-of-type {\n",
       "        vertical-align: middle;\n",
       "    }\n",
       "\n",
       "    .dataframe tbody tr th {\n",
       "        vertical-align: top;\n",
       "    }\n",
       "\n",
       "    .dataframe thead th {\n",
       "        text-align: right;\n",
       "    }\n",
       "</style>\n",
       "<table border=\"1\" class=\"dataframe\">\n",
       "  <thead>\n",
       "    <tr style=\"text-align: right;\">\n",
       "      <th></th>\n",
       "      <th>cast</th>\n",
       "      <th>crew</th>\n",
       "      <th>id</th>\n",
       "    </tr>\n",
       "  </thead>\n",
       "  <tbody>\n",
       "    <tr>\n",
       "      <th>0</th>\n",
       "      <td>[{'cast_id': 14, 'character': 'Woody (voice)',...</td>\n",
       "      <td>[{'credit_id': '52fe4284c3a36847f8024f49', 'de...</td>\n",
       "      <td>862</td>\n",
       "    </tr>\n",
       "    <tr>\n",
       "      <th>1</th>\n",
       "      <td>[{'cast_id': 1, 'character': 'Alan Parrish', '...</td>\n",
       "      <td>[{'credit_id': '52fe44bfc3a36847f80a7cd1', 'de...</td>\n",
       "      <td>8844</td>\n",
       "    </tr>\n",
       "    <tr>\n",
       "      <th>2</th>\n",
       "      <td>[{'cast_id': 2, 'character': 'Max Goldman', 'c...</td>\n",
       "      <td>[{'credit_id': '52fe466a9251416c75077a89', 'de...</td>\n",
       "      <td>15602</td>\n",
       "    </tr>\n",
       "    <tr>\n",
       "      <th>3</th>\n",
       "      <td>[{'cast_id': 1, 'character': \"Savannah 'Vannah...</td>\n",
       "      <td>[{'credit_id': '52fe44779251416c91011acb', 'de...</td>\n",
       "      <td>31357</td>\n",
       "    </tr>\n",
       "    <tr>\n",
       "      <th>4</th>\n",
       "      <td>[{'cast_id': 1, 'character': 'George Banks', '...</td>\n",
       "      <td>[{'credit_id': '52fe44959251416c75039ed7', 'de...</td>\n",
       "      <td>11862</td>\n",
       "    </tr>\n",
       "  </tbody>\n",
       "</table>\n",
       "</div>"
      ],
      "text/plain": [
       "                                                cast  \\\n",
       "0  [{'cast_id': 14, 'character': 'Woody (voice)',...   \n",
       "1  [{'cast_id': 1, 'character': 'Alan Parrish', '...   \n",
       "2  [{'cast_id': 2, 'character': 'Max Goldman', 'c...   \n",
       "3  [{'cast_id': 1, 'character': \"Savannah 'Vannah...   \n",
       "4  [{'cast_id': 1, 'character': 'George Banks', '...   \n",
       "\n",
       "                                                crew     id  \n",
       "0  [{'credit_id': '52fe4284c3a36847f8024f49', 'de...    862  \n",
       "1  [{'credit_id': '52fe44bfc3a36847f80a7cd1', 'de...   8844  \n",
       "2  [{'credit_id': '52fe466a9251416c75077a89', 'de...  15602  \n",
       "3  [{'credit_id': '52fe44779251416c91011acb', 'de...  31357  \n",
       "4  [{'credit_id': '52fe44959251416c75039ed7', 'de...  11862  "
      ]
     },
     "metadata": {},
     "output_type": "display_data"
    }
   ],
   "source": [
    "#  Ver las primeras filas\n",
    "display(credits_df.head())"
   ]
  },
  {
   "cell_type": "code",
   "execution_count": 7,
   "metadata": {},
   "outputs": [],
   "source": [
    "#  Convertir la columna 'id' a tipo entero\n",
    "# Esto facilita la fusión que se hara más adelante con el dataset movie\n",
    "credits_df['id'] = credits_df['id'].astype(int)"
   ]
  },
  {
   "cell_type": "code",
   "execution_count": 8,
   "metadata": {},
   "outputs": [],
   "source": [
    "# Función para extraer los 5 actores principales\n",
    "def extract_actors(json_str):\n",
    "    \"\"\" Extrae los nombres de los 5 actores principales \"\"\"\n",
    "    if pd.isna(json_str):\n",
    "        return None\n",
    "    try:\n",
    "# Convertir la cadena JSON en una lista de diccionarios            \n",
    "        data = json.loads(json_str.replace(\"'\", '\"'))\n",
    "        return ', '.join([item.get('name', '') for item in data[:5]]) if isinstance(data, list) else None\n",
    "    except json.JSONDecodeError:\n",
    "        return None\n",
    "#Aplicar la función a la columna 'cast' para extraer los actores principales\n",
    "credits_df['actors'] = credits_df['cast'].apply(extract_actors)\n"
   ]
  },
  {
   "cell_type": "code",
   "execution_count": 9,
   "metadata": {},
   "outputs": [],
   "source": [
    "#  Función para extraer el director de la película\n",
    "def extract_director(json_str):\n",
    "    \"\"\" Extrae el nombre del director de la película \"\"\"\n",
    "    if pd.isna(json_str):\n",
    "        return None\n",
    "    try:\n",
    "        data = json.loads(json_str.replace(\"'\", '\"'))\n",
    "        for person in data:\n",
    "            if person.get('job') == 'Director':\n",
    "                return person.get('name', '')\n",
    "    except json.JSONDecodeError:\n",
    "        return None\n",
    "    return None\n",
    "# Aplicar la función a la columna 'crew' para extraer el director\n",
    "credits_df['director'] = credits_df['crew'].apply(extract_director)"
   ]
  },
  {
   "cell_type": "code",
   "execution_count": 10,
   "metadata": {},
   "outputs": [],
   "source": [
    "# Eliminar columnas innecesarias\n",
    "# Se eliminan 'cast' y 'crew' ya que sus datos relevantes han sido extraídos\n",
    "credits_df = credits_df.drop(columns=['cast', 'crew'])"
   ]
  },
  {
   "cell_type": "code",
   "execution_count": 11,
   "metadata": {},
   "outputs": [
    {
     "name": "stdout",
     "output_type": "stream",
     "text": [
      " Transformación de `credits.csv` completada. Archivo guardado en:\n",
      "  C:/Users/oscar/Desktop/P1-HENRY/data_set\\credits.parquet\n"
     ]
    }
   ],
   "source": [
    "# Guardar los datos transformados en formato Parquet para optimización\n",
    "ruta_credits_parquet = os.path.join(RUTA_BASE, \"credits.parquet\")\n",
    "credits_df.to_parquet(ruta_credits_parquet, index=False)\n",
    "\n",
    "print(f\" Transformación de `credits.csv` completada. Archivo guardado en:\\n  {ruta_credits_parquet}\")"
   ]
  }
 ],
 "metadata": {
  "kernelspec": {
   "display_name": "env",
   "language": "python",
   "name": "python3"
  },
  "language_info": {
   "codemirror_mode": {
    "name": "ipython",
    "version": 3
   },
   "file_extension": ".py",
   "mimetype": "text/x-python",
   "name": "python",
   "nbconvert_exporter": "python",
   "pygments_lexer": "ipython3",
   "version": "3.10.11"
  }
 },
 "nbformat": 4,
 "nbformat_minor": 2
}
