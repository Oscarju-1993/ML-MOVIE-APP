{
 "cells": [
  {
   "cell_type": "code",
   "execution_count": 22,
   "metadata": {},
   "outputs": [],
   "source": [
    "import pandas as pd\n",
    "import numpy as np\n",
    "import os\n",
    "import joblib\n",
    "import psutil\n",
    "from sklearn.feature_extraction.text import TfidfVectorizer\n",
    "from sklearn.decomposition import TruncatedSVD\n",
    "from sklearn.metrics.pairwise import cosine_similarity"
   ]
  },
  {
   "cell_type": "code",
   "execution_count": 23,
   "metadata": {},
   "outputs": [
    {
     "name": "stdout",
     "output_type": "stream",
     "text": [
      "<class 'pandas.core.frame.DataFrame'>\n",
      "RangeIndex: 28926 entries, 0 to 28925\n",
      "Data columns (total 20 columns):\n",
      " #   Column                 Non-Null Count  Dtype         \n",
      "---  ------                 --------------  -----         \n",
      " 0   belongs_to_collection  2164 non-null   object        \n",
      " 1   genres                 28926 non-null  object        \n",
      " 2   id                     28926 non-null  int64         \n",
      " 3   original_language      28926 non-null  object        \n",
      " 4   overview               28926 non-null  object        \n",
      " 5   popularity             28926 non-null  float64       \n",
      " 6   production_companies   28622 non-null  object        \n",
      " 7   production_countries   28923 non-null  object        \n",
      " 8   release_date           28926 non-null  datetime64[ns]\n",
      " 9   revenue                28926 non-null  float64       \n",
      " 10  runtime                28796 non-null  float64       \n",
      " 11  spoken_languages       28908 non-null  object        \n",
      " 12  tagline                14246 non-null  object        \n",
      " 13  title                  28926 non-null  object        \n",
      " 14  vote_average           28926 non-null  float64       \n",
      " 15  vote_count             28926 non-null  float64       \n",
      " 16  release_year           28926 non-null  int64         \n",
      " 17  actors                 28926 non-null  object        \n",
      " 18  director               28926 non-null  object        \n",
      " 19  predictor              28926 non-null  object        \n",
      "dtypes: datetime64[ns](1), float64(5), int64(2), object(12)\n",
      "memory usage: 4.4+ MB\n"
     ]
    }
   ],
   "source": [
    "# Definir la ruta base del dataset procesado\n",
    "RUTA_BASE = \"C:/Users/oscar/Desktop/Henry/Proyectos/INDIVIDUAL 1/data_set\"\n",
    "ruta_procesada = os.path.join(RUTA_BASE, \"movies_dataset_processed.parquet\")\n",
    "#Cargar el dataset procesado\n",
    "movies_df = pd.read_parquet(ruta_procesada)\n",
    "movies_df.info()"
   ]
  },
  {
   "cell_type": "code",
   "execution_count": 24,
   "metadata": {},
   "outputs": [],
   "source": [
    "# Vectorización del texto con TF-IDF\n",
    "# Se extraen características a partir del texto de la columna 'predictor'\n",
    "vectorizer = TfidfVectorizer(min_df=4, max_df=0.85, ngram_range=(1, 2), max_features=40000, dtype=np.float32)\n",
    "tfidf_matrix = vectorizer.fit_transform(movies_df['predictor'])"
   ]
  },
  {
   "cell_type": "code",
   "execution_count": 25,
   "metadata": {},
   "outputs": [],
   "source": [
    "# Reducción de dimensionalidad con SVD (Latent Semantic Analysis)\n",
    "# Se reduce la dimensión de la matriz TF-IDF para optimizar rendimiento y reducir ruido\n",
    "svd = TruncatedSVD(n_components=400, random_state=42)\n",
    "matriz_reducida = svd.fit_transform(tfidf_matrix)"
   ]
  },
  {
   "cell_type": "code",
   "execution_count": 26,
   "metadata": {},
   "outputs": [],
   "source": [
    "# Función para recomendar películas basada en similitud de coseno\n",
    "def recomendar_peliculas(titulo, num_recomendaciones=5):\n",
    "    \"\"\" Retorna una lista de películas similares en base al título dado. \"\"\"\n",
    "    titulo = titulo.lower()\n",
    "    idx = movies_df.index[movies_df['title'].str.lower() == titulo].tolist()\n",
    "    if not idx:\n",
    "        return \"Película no encontrada\"\n",
    "    idx = idx[0]\n",
    "    \n",
    "    sim_scores = cosine_similarity(matriz_reducida[idx].reshape(1, -1), matriz_reducida)\n",
    "    sim_scores = list(enumerate(sim_scores[0]))\n",
    "    sim_scores = sorted(sim_scores, key=lambda x: x[1], reverse=True)\n",
    "    movie_indices = [i[0] for i in sim_scores[1:num_recomendaciones+1]]\n",
    "    \n",
    "    return movies_df[['title', 'popularity']].iloc[movie_indices]"
   ]
  },
  {
   "cell_type": "code",
   "execution_count": 27,
   "metadata": {},
   "outputs": [
    {
     "name": "stdout",
     "output_type": "stream",
     "text": [
      "Uso de memoria: 749.140625 MB\n"
     ]
    }
   ],
   "source": [
    "# Función para monitorear el uso de memoria del proceso\n",
    "def get_memory_usage():\n",
    "    process = psutil.Process(os.getpid())\n",
    "    mem_info = process.memory_info()\n",
    "    return mem_info.rss / (1024 * 1024)  # Convertir de bytes a MB\n",
    "\n",
    "print(f\"Uso de memoria: {get_memory_usage()} MB\")"
   ]
  },
  {
   "cell_type": "code",
   "execution_count": 28,
   "metadata": {},
   "outputs": [
    {
     "name": "stdout",
     "output_type": "stream",
     "text": [
      "✅ Modelos guardados correctamente.\n"
     ]
    }
   ],
   "source": [
    "# Guardar el modelo TF-IDF y la matriz reducida en archivos para futuras consultas\n",
    "directory = os.path.join(RUTA_BASE, 'processed')\n",
    "os.makedirs(directory, exist_ok=True)\n",
    "\n",
    "joblib.dump(vectorizer, os.path.join(directory, 'vectorizer.pkl'))\n",
    "joblib.dump(matriz_reducida, os.path.join(directory, 'matriz_reducida.pkl'))\n",
    "\n",
    "print(\"✅ Modelos guardados correctamente.\")"
   ]
  },
  {
   "cell_type": "code",
   "execution_count": 29,
   "metadata": {},
   "outputs": [
    {
     "name": "stdout",
     "output_type": "stream",
     "text": [
      "Recomendaciones para 'stuart little':\n",
      "                                                  title  popularity\n",
      "4195                                    Stuart Little 2    9.274909\n",
      "17324                                          Napoleon    0.863567\n",
      "5398                                      Teacher's Pet    0.491334\n",
      "18706  The Little Polar Bear: Lars and the Little Tiger    0.256353\n",
      "17818                                     Hen, His Wife    0.003013\n"
     ]
    }
   ],
   "source": [
    "# Prueba de recomendación de películas\n",
    "titulo_prueba = \"stuart little\"\n",
    "print(f\"Recomendaciones para '{titulo_prueba}':\")\n",
    "print(recomendar_peliculas(titulo_prueba))"
   ]
  }
 ],
 "metadata": {
  "kernelspec": {
   "display_name": "env",
   "language": "python",
   "name": "python3"
  },
  "language_info": {
   "codemirror_mode": {
    "name": "ipython",
    "version": 3
   },
   "file_extension": ".py",
   "mimetype": "text/x-python",
   "name": "python",
   "nbconvert_exporter": "python",
   "pygments_lexer": "ipython3",
   "version": "3.10.11"
  }
 },
 "nbformat": 4,
 "nbformat_minor": 2
}
