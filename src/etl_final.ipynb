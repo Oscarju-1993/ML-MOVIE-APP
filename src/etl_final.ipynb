{
 "cells": [
  {
   "cell_type": "code",
   "execution_count": 13,
   "metadata": {},
   "outputs": [],
   "source": [
    "import pandas as pd\n",
    "import os"
   ]
  },
  {
   "cell_type": "code",
   "execution_count": 14,
   "metadata": {},
   "outputs": [],
   "source": [
    "\n",
    "# Definir la ruta base de los archivos\n",
    "# Asegúrate de cambiar esta ruta si el dataset está en otra ubicación\n",
    "RUTA_BASE = \"C:/Users/oscar/Desktop/Henry/Proyectos/INDIVIDUAL 1/data_set\""
   ]
  },
  {
   "cell_type": "code",
   "execution_count": 15,
   "metadata": {},
   "outputs": [],
   "source": [
    "#  Cargar los datasets procesados en formato Parquet\n",
    "ruta_movies_parquet = os.path.join(RUTA_BASE, \"movies_dataset_etl.parquet\")\n",
    "ruta_credits_parquet = os.path.join(RUTA_BASE, \"credits.parquet\")\n",
    "\n",
    "movies_df = pd.read_parquet(ruta_movies_parquet)\n",
    "credits_df = pd.read_parquet(ruta_credits_parquet)"
   ]
  },
  {
   "cell_type": "code",
   "execution_count": 16,
   "metadata": {},
   "outputs": [
    {
     "name": "stdout",
     "output_type": "stream",
     "text": [
      "belongs_to_collection            object\n",
      "budget                            int64\n",
      "genres                           object\n",
      "id                                int64\n",
      "original_language                object\n",
      "overview                         object\n",
      "popularity                       object\n",
      "production_companies             object\n",
      "production_countries             object\n",
      "release_date             datetime64[ns]\n",
      "revenue                         float64\n",
      "runtime                         float64\n",
      "spoken_languages                 object\n",
      "tagline                          object\n",
      "title                            object\n",
      "vote_average                    float64\n",
      "vote_count                      float64\n",
      "release_year                      int32\n",
      "return                          float64\n",
      "dtype: object\n",
      "id           int64\n",
      "actors      object\n",
      "director    object\n",
      "dtype: object\n"
     ]
    }
   ],
   "source": [
    " # Verificar los tipos de datos para asegurarnos de que 'id' sea entero\n",
    "print(movies_df.dtypes)\n",
    "print(credits_df.dtypes)"
   ]
  },
  {
   "cell_type": "code",
   "execution_count": 17,
   "metadata": {},
   "outputs": [],
   "source": [
    "# Eliminar duplicados en la columna 'id' antes de la fusión\n",
    "movies_df = movies_df.drop_duplicates(subset=['id'])\n",
    "credits_df = credits_df.drop_duplicates(subset=['id'])"
   ]
  },
  {
   "cell_type": "code",
   "execution_count": 18,
   "metadata": {},
   "outputs": [],
   "source": [
    "# Fusionar los datasets utilizando 'id' como clave\n",
    "# Se realiza un left join para mantener todas las películas y agregar información de los créditos\n",
    "movies_merged_df = movies_df.merge(credits_df, on='id', how='left')"
   ]
  },
  {
   "cell_type": "code",
   "execution_count": 19,
   "metadata": {},
   "outputs": [],
   "source": [
    "#  Eliminar posibles duplicados después de la fusión\n",
    "movies_merged_df = movies_merged_df.drop_duplicates(subset=['id'])"
   ]
  },
  {
   "cell_type": "code",
   "execution_count": 20,
   "metadata": {},
   "outputs": [
    {
     "name": "stderr",
     "output_type": "stream",
     "text": [
      "C:\\Users\\oscar\\AppData\\Local\\Temp\\ipykernel_25744\\4180252410.py:3: FutureWarning: A value is trying to be set on a copy of a DataFrame or Series through chained assignment using an inplace method.\n",
      "The behavior will change in pandas 3.0. This inplace method will never work because the intermediate object on which we are setting values always behaves as a copy.\n",
      "\n",
      "For example, when doing 'df[col].method(value, inplace=True)', try using 'df.method({col: value}, inplace=True)' or df[col] = df[col].method(value) instead, to perform the operation inplace on the original object.\n",
      "\n",
      "\n",
      "  movies_merged_df['actors'].fillna(\"Desconocido\", inplace=True)\n",
      "C:\\Users\\oscar\\AppData\\Local\\Temp\\ipykernel_25744\\4180252410.py:4: FutureWarning: A value is trying to be set on a copy of a DataFrame or Series through chained assignment using an inplace method.\n",
      "The behavior will change in pandas 3.0. This inplace method will never work because the intermediate object on which we are setting values always behaves as a copy.\n",
      "\n",
      "For example, when doing 'df[col].method(value, inplace=True)', try using 'df.method({col: value}, inplace=True)' or df[col] = df[col].method(value) instead, to perform the operation inplace on the original object.\n",
      "\n",
      "\n",
      "  movies_merged_df['director'].fillna(\"Desconocido\", inplace=True)\n"
     ]
    }
   ],
   "source": [
    "# Rellenar valores nulos en columnas clave\n",
    "# Si no hay actores o director en los datos, se asigna 'Desconocido'\n",
    "movies_merged_df['actors'].fillna(\"Desconocido\", inplace=True)\n",
    "movies_merged_df['director'].fillna(\"Desconocido\", inplace=True)"
   ]
  },
  {
   "cell_type": "code",
   "execution_count": 21,
   "metadata": {},
   "outputs": [
    {
     "data": {
      "text/html": [
       "<div>\n",
       "<style scoped>\n",
       "    .dataframe tbody tr th:only-of-type {\n",
       "        vertical-align: middle;\n",
       "    }\n",
       "\n",
       "    .dataframe tbody tr th {\n",
       "        vertical-align: top;\n",
       "    }\n",
       "\n",
       "    .dataframe thead th {\n",
       "        text-align: right;\n",
       "    }\n",
       "</style>\n",
       "<table border=\"1\" class=\"dataframe\">\n",
       "  <thead>\n",
       "    <tr style=\"text-align: right;\">\n",
       "      <th></th>\n",
       "      <th>belongs_to_collection</th>\n",
       "      <th>budget</th>\n",
       "      <th>genres</th>\n",
       "      <th>id</th>\n",
       "      <th>original_language</th>\n",
       "      <th>overview</th>\n",
       "      <th>popularity</th>\n",
       "      <th>production_companies</th>\n",
       "      <th>production_countries</th>\n",
       "      <th>release_date</th>\n",
       "      <th>...</th>\n",
       "      <th>runtime</th>\n",
       "      <th>spoken_languages</th>\n",
       "      <th>tagline</th>\n",
       "      <th>title</th>\n",
       "      <th>vote_average</th>\n",
       "      <th>vote_count</th>\n",
       "      <th>release_year</th>\n",
       "      <th>return</th>\n",
       "      <th>actors</th>\n",
       "      <th>director</th>\n",
       "    </tr>\n",
       "  </thead>\n",
       "  <tbody>\n",
       "    <tr>\n",
       "      <th>0</th>\n",
       "      <td>Toy Story Collection</td>\n",
       "      <td>30000000</td>\n",
       "      <td>Animation, Comedy, Family</td>\n",
       "      <td>862</td>\n",
       "      <td>en</td>\n",
       "      <td>Led by Woody, Andy's toys live happily in his ...</td>\n",
       "      <td>21.946943</td>\n",
       "      <td>Pixar Animation Studios</td>\n",
       "      <td>United States of America</td>\n",
       "      <td>1995-10-30</td>\n",
       "      <td>...</td>\n",
       "      <td>81.0</td>\n",
       "      <td>English</td>\n",
       "      <td>None</td>\n",
       "      <td>Toy Story</td>\n",
       "      <td>7.7</td>\n",
       "      <td>5415.0</td>\n",
       "      <td>1995</td>\n",
       "      <td>12.451801</td>\n",
       "      <td>Desconocido</td>\n",
       "      <td>Desconocido</td>\n",
       "    </tr>\n",
       "    <tr>\n",
       "      <th>1</th>\n",
       "      <td>None</td>\n",
       "      <td>65000000</td>\n",
       "      <td>Adventure, Fantasy, Family</td>\n",
       "      <td>8844</td>\n",
       "      <td>en</td>\n",
       "      <td>When siblings Judy and Peter discover an encha...</td>\n",
       "      <td>17.015539</td>\n",
       "      <td>TriStar Pictures, Teitler Film, Interscope Com...</td>\n",
       "      <td>United States of America</td>\n",
       "      <td>1995-12-15</td>\n",
       "      <td>...</td>\n",
       "      <td>104.0</td>\n",
       "      <td>English, Français</td>\n",
       "      <td>Roll the dice and unleash the excitement!</td>\n",
       "      <td>Jumanji</td>\n",
       "      <td>6.9</td>\n",
       "      <td>2413.0</td>\n",
       "      <td>1995</td>\n",
       "      <td>4.043035</td>\n",
       "      <td>Desconocido</td>\n",
       "      <td>Desconocido</td>\n",
       "    </tr>\n",
       "    <tr>\n",
       "      <th>2</th>\n",
       "      <td>Grumpy Old Men Collection</td>\n",
       "      <td>0</td>\n",
       "      <td>Romance, Comedy</td>\n",
       "      <td>15602</td>\n",
       "      <td>en</td>\n",
       "      <td>A family wedding reignites the ancient feud be...</td>\n",
       "      <td>11.7129</td>\n",
       "      <td>Warner Bros., Lancaster Gate</td>\n",
       "      <td>United States of America</td>\n",
       "      <td>1995-12-22</td>\n",
       "      <td>...</td>\n",
       "      <td>101.0</td>\n",
       "      <td>English</td>\n",
       "      <td>Still Yelling. Still Fighting. Still Ready for...</td>\n",
       "      <td>Grumpier Old Men</td>\n",
       "      <td>6.5</td>\n",
       "      <td>92.0</td>\n",
       "      <td>1995</td>\n",
       "      <td>0.000000</td>\n",
       "      <td>Walter Matthau, Jack Lemmon, Ann-Margret, Soph...</td>\n",
       "      <td>Desconocido</td>\n",
       "    </tr>\n",
       "    <tr>\n",
       "      <th>3</th>\n",
       "      <td>None</td>\n",
       "      <td>16000000</td>\n",
       "      <td>Comedy, Drama, Romance</td>\n",
       "      <td>31357</td>\n",
       "      <td>en</td>\n",
       "      <td>Cheated on, mistreated and stepped on, the wom...</td>\n",
       "      <td>3.859495</td>\n",
       "      <td>Twentieth Century Fox Film Corporation</td>\n",
       "      <td>United States of America</td>\n",
       "      <td>1995-12-22</td>\n",
       "      <td>...</td>\n",
       "      <td>127.0</td>\n",
       "      <td>English</td>\n",
       "      <td>Friends are the people who let you be yourself...</td>\n",
       "      <td>Waiting to Exhale</td>\n",
       "      <td>6.1</td>\n",
       "      <td>34.0</td>\n",
       "      <td>1995</td>\n",
       "      <td>5.090760</td>\n",
       "      <td>Desconocido</td>\n",
       "      <td>Desconocido</td>\n",
       "    </tr>\n",
       "    <tr>\n",
       "      <th>4</th>\n",
       "      <td>Father of the Bride Collection</td>\n",
       "      <td>0</td>\n",
       "      <td>Comedy</td>\n",
       "      <td>11862</td>\n",
       "      <td>en</td>\n",
       "      <td>Just when George Banks has recovered from his ...</td>\n",
       "      <td>8.387519</td>\n",
       "      <td>Sandollar Productions, Touchstone Pictures</td>\n",
       "      <td>United States of America</td>\n",
       "      <td>1995-02-10</td>\n",
       "      <td>...</td>\n",
       "      <td>106.0</td>\n",
       "      <td>English</td>\n",
       "      <td>Just When His World Is Back To Normal... He's ...</td>\n",
       "      <td>Father of the Bride Part II</td>\n",
       "      <td>5.7</td>\n",
       "      <td>173.0</td>\n",
       "      <td>1995</td>\n",
       "      <td>0.000000</td>\n",
       "      <td>Steve Martin, Diane Keaton, Martin Short, Kimb...</td>\n",
       "      <td>Desconocido</td>\n",
       "    </tr>\n",
       "  </tbody>\n",
       "</table>\n",
       "<p>5 rows × 21 columns</p>\n",
       "</div>"
      ],
      "text/plain": [
       "            belongs_to_collection    budget                      genres  \\\n",
       "0            Toy Story Collection  30000000   Animation, Comedy, Family   \n",
       "1                            None  65000000  Adventure, Fantasy, Family   \n",
       "2       Grumpy Old Men Collection         0             Romance, Comedy   \n",
       "3                            None  16000000      Comedy, Drama, Romance   \n",
       "4  Father of the Bride Collection         0                      Comedy   \n",
       "\n",
       "      id original_language                                           overview  \\\n",
       "0    862                en  Led by Woody, Andy's toys live happily in his ...   \n",
       "1   8844                en  When siblings Judy and Peter discover an encha...   \n",
       "2  15602                en  A family wedding reignites the ancient feud be...   \n",
       "3  31357                en  Cheated on, mistreated and stepped on, the wom...   \n",
       "4  11862                en  Just when George Banks has recovered from his ...   \n",
       "\n",
       "  popularity                               production_companies  \\\n",
       "0  21.946943                            Pixar Animation Studios   \n",
       "1  17.015539  TriStar Pictures, Teitler Film, Interscope Com...   \n",
       "2    11.7129                       Warner Bros., Lancaster Gate   \n",
       "3   3.859495             Twentieth Century Fox Film Corporation   \n",
       "4   8.387519         Sandollar Productions, Touchstone Pictures   \n",
       "\n",
       "       production_countries release_date  ...  runtime   spoken_languages  \\\n",
       "0  United States of America   1995-10-30  ...     81.0            English   \n",
       "1  United States of America   1995-12-15  ...    104.0  English, Français   \n",
       "2  United States of America   1995-12-22  ...    101.0            English   \n",
       "3  United States of America   1995-12-22  ...    127.0            English   \n",
       "4  United States of America   1995-02-10  ...    106.0            English   \n",
       "\n",
       "                                             tagline  \\\n",
       "0                                               None   \n",
       "1          Roll the dice and unleash the excitement!   \n",
       "2  Still Yelling. Still Fighting. Still Ready for...   \n",
       "3  Friends are the people who let you be yourself...   \n",
       "4  Just When His World Is Back To Normal... He's ...   \n",
       "\n",
       "                         title vote_average  vote_count  release_year  \\\n",
       "0                    Toy Story          7.7      5415.0          1995   \n",
       "1                      Jumanji          6.9      2413.0          1995   \n",
       "2             Grumpier Old Men          6.5        92.0          1995   \n",
       "3            Waiting to Exhale          6.1        34.0          1995   \n",
       "4  Father of the Bride Part II          5.7       173.0          1995   \n",
       "\n",
       "      return                                             actors     director  \n",
       "0  12.451801                                        Desconocido  Desconocido  \n",
       "1   4.043035                                        Desconocido  Desconocido  \n",
       "2   0.000000  Walter Matthau, Jack Lemmon, Ann-Margret, Soph...  Desconocido  \n",
       "3   5.090760                                        Desconocido  Desconocido  \n",
       "4   0.000000  Steve Martin, Diane Keaton, Martin Short, Kimb...  Desconocido  \n",
       "\n",
       "[5 rows x 21 columns]"
      ]
     },
     "metadata": {},
     "output_type": "display_data"
    }
   ],
   "source": [
    "#  Ver el resultado final\n",
    "display(movies_merged_df.head())"
   ]
  },
  {
   "cell_type": "code",
   "execution_count": 22,
   "metadata": {},
   "outputs": [
    {
     "name": "stdout",
     "output_type": "stream",
     "text": [
      "🔍 Películas duplicadas: 0\n"
     ]
    }
   ],
   "source": [
    "# Verificar duplicados en 'id' después de la fusión\n",
    "duplicados = movies_merged_df['id'].duplicated().sum()\n",
    "print(f\"🔍 Películas duplicadas: {duplicados}\")"
   ]
  },
  {
   "cell_type": "code",
   "execution_count": 23,
   "metadata": {},
   "outputs": [
    {
     "name": "stdout",
     "output_type": "stream",
     "text": [
      "Valores nulos en `actors`: 0\n",
      "Valores nulos en `director`: 0\n"
     ]
    }
   ],
   "source": [
    "# Verificar valores nulos en columnas clave\n",
    "print(\"Valores nulos en `actors`:\", movies_merged_df['actors'].isnull().sum())\n",
    "print(\"Valores nulos en `director`:\", movies_merged_df['director'].isnull().sum())\n"
   ]
  },
  {
   "cell_type": "code",
   "execution_count": 24,
   "metadata": {},
   "outputs": [
    {
     "name": "stdout",
     "output_type": "stream",
     "text": [
      " Unión completada. Archivo guardado en:\n",
      "  C:/Users/oscar/Desktop/Henry/Proyectos/INDIVIDUAL 1/data_set\\movies_final.parquet\n"
     ]
    }
   ],
   "source": [
    "# Guardar el dataset final en formato Parquet para optimización\n",
    "ruta_final_parquet = os.path.join(RUTA_BASE, \"movies_final.parquet\")\n",
    "movies_merged_df.to_parquet(ruta_final_parquet, index=False)\n",
    "\n",
    "print(f\" Unión completada. Archivo guardado en:\\n  {ruta_final_parquet}\")"
   ]
  }
 ],
 "metadata": {
  "kernelspec": {
   "display_name": "env",
   "language": "python",
   "name": "python3"
  },
  "language_info": {
   "codemirror_mode": {
    "name": "ipython",
    "version": 3
   },
   "file_extension": ".py",
   "mimetype": "text/x-python",
   "name": "python",
   "nbconvert_exporter": "python",
   "pygments_lexer": "ipython3",
   "version": "3.10.11"
  }
 },
 "nbformat": 4,
 "nbformat_minor": 2
}
