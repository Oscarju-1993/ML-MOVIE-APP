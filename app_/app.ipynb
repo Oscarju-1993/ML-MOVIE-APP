{
 "cells": [
  {
   "cell_type": "code",
   "execution_count": 18,
   "metadata": {},
   "outputs": [],
   "source": [
    "from fastapi import FastAPI\n",
    "import pandas as pd\n",
    "import joblib\n",
    "import os\n",
    "from sklearn.metrics.pairwise import cosine_similarity"
   ]
  },
  {
   "cell_type": "code",
   "execution_count": 19,
   "metadata": {},
   "outputs": [],
   "source": [
    "# Inicializar la aplicación FastAPI\n",
    "app = FastAPI()"
   ]
  },
  {
   "cell_type": "code",
   "execution_count": 20,
   "metadata": {},
   "outputs": [],
   "source": [
    "# Definir rutas de archivos\n",
    "RUTA_BASE = \"C:/Users/oscar/Desktop/Henry/Proyectos/INDIVIDUAL 1/data_set/processed\"\n",
    "RUTA_BASE_ = \"C:/Users/oscar/Desktop/Henry/Proyectos/INDIVIDUAL 1/data_set\"\n",
    "vectorizer_path = os.path.join(RUTA_BASE, 'vectorizer.pkl')\n",
    "matriz_reducida_path = os.path.join(RUTA_BASE, 'matriz_reducida.pkl')\n",
    "dataset_path = os.path.join(RUTA_BASE_, \"movies_dataset_processed.parquet\")"
   ]
  },
  {
   "cell_type": "code",
   "execution_count": 21,
   "metadata": {},
   "outputs": [],
   "source": [
    "# Cargar modelos y datos\n",
    "movies_df = pd.read_parquet(dataset_path)\n",
    "vectorizer = joblib.load(vectorizer_path)\n",
    "matriz_reducida = joblib.load(matriz_reducida_path)\n"
   ]
  },
  {
   "cell_type": "code",
   "execution_count": 22,
   "metadata": {},
   "outputs": [],
   "source": [
    "# Endpoint de recomendación de películas\n",
    "@app.get(\"/recomendacion/{titulo}\")\n",
    "def recomendar_peliculas(titulo: str, num_recomendaciones: int = 5):\n",
    "    titulo = titulo.lower()\n",
    "    idx = movies_df.index[movies_df['title'].str.lower() == titulo].tolist()\n",
    "    if not idx:\n",
    "        return {\"error\": \"Película no encontrada\"}\n",
    "    idx = idx[0]\n",
    "    \n",
    "    sim_scores = cosine_similarity(matriz_reducida[idx].reshape(1, -1), matriz_reducida)\n",
    "    sim_scores = list(enumerate(sim_scores[0]))\n",
    "    sim_scores = sorted(sim_scores, key=lambda x: x[1], reverse=True)\n",
    "    movie_indices = [i[0] for i in sim_scores[1:num_recomendaciones+1]]\n",
    "    \n",
    "    recomendaciones = movies_df[['title', 'popularity']].iloc[movie_indices].to_dict(orient='records')\n",
    "    return {\"titulo\": titulo, \"recomendaciones\": recomendaciones}\n"
   ]
  },
  {
   "cell_type": "code",
   "execution_count": 23,
   "metadata": {},
   "outputs": [],
   "source": [
    "#  Endpoint: Cantidad de filmaciones por mes\n",
    "@app.get(\"/cantidad_filmaciones_mes/{mes}\")\n",
    "def cantidad_filmaciones_mes(mes: str):\n",
    "    cantidad = movies_df[movies_df['release_date'].dt.month_name(locale='es') == mes].shape[0]\n",
    "    return {\"mes\": mes, \"cantidad\": cantidad}"
   ]
  },
  {
   "cell_type": "code",
   "execution_count": 24,
   "metadata": {},
   "outputs": [],
   "source": [
    "# Endpoint: Score de una película\n",
    "@app.get(\"/score_titulo/{titulo}\")\n",
    "def score_titulo(titulo: str):\n",
    "    movie = movies_df[movies_df['title'].str.lower() == titulo.lower()]\n",
    "    if movie.empty:\n",
    "        return {\"error\": \"Película no encontrada\"}\n",
    "    return {\"titulo\": titulo, \"año\": int(movie['release_year'].values[0]), \"score\": float(movie['popularity'].values[0])}"
   ]
  },
  {
   "cell_type": "code",
   "execution_count": 25,
   "metadata": {},
   "outputs": [],
   "source": [
    "# Endpoint: Votos de una película\n",
    "@app.get(\"/votos_titulo/{titulo}\")\n",
    "def votos_titulo(titulo: str):\n",
    "    movie = movies_df[movies_df['title'].str.lower() == titulo.lower()]\n",
    "    if movie.empty or movie['vote_count'].values[0] < 2000:\n",
    "        return {\"error\": \"Película no encontrada o con menos de 2000 votos\"}\n",
    "    return {\"titulo\": titulo, \"votos_totales\": int(movie['vote_count'].values[0]), \"promedio_votos\": float(movie['vote_average'].values[0])}"
   ]
  },
  {
   "cell_type": "code",
   "execution_count": 26,
   "metadata": {},
   "outputs": [],
   "source": [
    "# Endpoint: Votos de una película\n",
    "@app.get(\"/votos_titulo/{titulo}\")\n",
    "def votos_titulo(titulo: str):\n",
    "    movie = movies_df[movies_df['title'].str.lower() == titulo.lower()]\n",
    "    if movie.empty or movie['vote_count'].values[0] < 2000:\n",
    "        return {\"error\": \"Película no encontrada o con menos de 2000 votos\"}\n",
    "    return {\"titulo\": titulo, \"votos_totales\": int(movie['vote_count'].values[0]), \"promedio_votos\": float(movie['vote_average'].values[0])}"
   ]
  },
  {
   "cell_type": "code",
   "execution_count": 27,
   "metadata": {},
   "outputs": [],
   "source": [
    "# Endpoint: Información sobre un actor\n",
    "@app.get(\"/get_actor/{nombre_actor}\")\n",
    "def get_actor(nombre_actor: str):\n",
    "    peliculas_actor = movies_df[movies_df['actors'].str.contains(nombre_actor, case=False, na=False)]\n",
    "    if peliculas_actor.empty:\n",
    "        return {\"error\": \"Actor no encontrado\"}\n",
    "    retorno_total = peliculas_actor['revenue'].sum()\n",
    "    promedio_retorno = retorno_total / peliculas_actor.shape[0]\n",
    "    return {\"actor\": nombre_actor, \"cantidad_peliculas\": peliculas_actor.shape[0], \"retorno_total\": retorno_total, \"promedio_retorno\": promedio_retorno}"
   ]
  },
  {
   "cell_type": "code",
   "execution_count": 28,
   "metadata": {},
   "outputs": [],
   "source": [
    "# Endpoint: Información sobre un director\n",
    "@app.get(\"/get_director/{nombre_director}\")\n",
    "def get_director(nombre_director: str):\n",
    "    peliculas_director = movies_df[movies_df['director'].str.contains(nombre_director, case=False, na=False)]\n",
    "    if peliculas_director.empty:\n",
    "        return {\"error\": \"Director no encontrado\"}\n",
    "    detalles = peliculas_director[['title', 'release_date', 'revenue', 'budget']].to_dict(orient='records')\n",
    "    retorno_total = peliculas_director['revenue'].sum()\n",
    "    return {\"director\": nombre_director, \"retorno_total\": retorno_total, \"peliculas\": detalles}"
   ]
  }
 ],
 "metadata": {
  "kernelspec": {
   "display_name": "env",
   "language": "python",
   "name": "python3"
  },
  "language_info": {
   "codemirror_mode": {
    "name": "ipython",
    "version": 3
   },
   "file_extension": ".py",
   "mimetype": "text/x-python",
   "name": "python",
   "nbconvert_exporter": "python",
   "pygments_lexer": "ipython3",
   "version": "3.10.11"
  }
 },
 "nbformat": 4,
 "nbformat_minor": 2
}
